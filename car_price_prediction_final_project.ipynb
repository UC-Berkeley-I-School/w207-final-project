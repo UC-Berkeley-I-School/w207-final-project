{
  "cells": [
    {
      "cell_type": "markdown",
      "metadata": {
        "id": "view-in-github",
        "colab_type": "text"
      },
      "source": [
        "<a href=\"https://colab.research.google.com/github/sameer-karim/w207-final-project/blob/project/car_price_prediction_final_project.ipynb\" target=\"_parent\"><img src=\"https://colab.research.google.com/assets/colab-badge.svg\" alt=\"Open In Colab\"/></a>"
      ]
    },
    {
      "cell_type": "code",
      "execution_count": null,
      "metadata": {
        "colab": {
          "base_uri": "https://localhost:8080/"
        },
        "id": "5YvSdZSptkb8",
        "outputId": "07ffa097-d2a1-4c2b-9fe6-585f40e6b61d"
      },
      "outputs": [
        {
          "name": "stdout",
          "output_type": "stream",
          "text": [
            "Mounted at /content/drive\n"
          ]
        }
      ],
      "source": [
        "# Data manipulation and numerical operations\n",
        "import numpy as np\n",
        "import pandas as pd\n",
        "\n",
        "# Data visualization\n",
        "import matplotlib.pyplot as plt\n",
        "import seaborn as sns\n",
        "\n",
        "# Machine learning and statistical models\n",
        "from sklearn.model_selection import train_test_split\n",
        "from sklearn.preprocessing import StandardScaler, LabelEncoder\n",
        "from sklearn.linear_model import LinearRegression, LogisticRegression\n",
        "from sklearn.svm import SVC\n",
        "from sklearn.tree import DecisionTreeClassifier\n",
        "from sklearn.ensemble import RandomForestClassifier, GradientBoostingClassifier\n",
        "from sklearn.cluster import KMeans\n",
        "from sklearn.metrics import accuracy_score, confusion_matrix, classification_report\n",
        "\n",
        "# Deep learning\n",
        "import tensorflow as tf\n",
        "from tensorflow.keras.models import Sequential\n",
        "from tensorflow.keras.layers import Dense, Dropout, Conv2D, MaxPooling2D, Flatten\n",
        "from tensorflow.keras.preprocessing.image import ImageDataGenerator\n",
        "from tensorflow.keras.callbacks import EarlyStopping\n",
        "from google.colab import drive\n",
        "drive.mount('/content/drive')\n",
        "from google.colab import drive\n",
        "import pandas as pd\n",
        "import pandas as pd\n",
        "import numpy as np\n",
        "from tabulate import tabulate\n",
        "import re"
      ]
    },
    {
      "cell_type": "code",
      "execution_count": null,
      "metadata": {
        "colab": {
          "base_uri": "https://localhost:8080/",
          "height": 328
        },
        "id": "eND51-dZu5-2",
        "outputId": "b1a06773-4ba5-4831-940f-b32c01347c5d"
      },
      "outputs": [
        {
          "name": "stdout",
          "output_type": "stream",
          "text": [
            "Drive already mounted at /content/drive; to attempt to forcibly remount, call drive.mount(\"/content/drive\", force_remount=True).\n"
          ]
        },
        {
          "data": {
            "application/vnd.google.colaboratory.intrinsic+json": {
              "summary": "{\n  \"name\": \"df\",\n  \"rows\": 19237,\n  \"fields\": [\n    {\n      \"column\": \"ID\",\n      \"properties\": {\n        \"dtype\": \"number\",\n        \"std\": 936591,\n        \"min\": 20746880,\n        \"max\": 45816654,\n        \"num_unique_values\": 18924,\n        \"samples\": [\n          45770559,\n          45812744,\n          45803306\n        ],\n        \"semantic_type\": \"\",\n        \"description\": \"\"\n      }\n    },\n    {\n      \"column\": \"Price\",\n      \"properties\": {\n        \"dtype\": \"number\",\n        \"std\": 190581,\n        \"min\": 1,\n        \"max\": 26307500,\n        \"num_unique_values\": 2315,\n        \"samples\": [\n          31650,\n          10914,\n          9408\n        ],\n        \"semantic_type\": \"\",\n        \"description\": \"\"\n      }\n    },\n    {\n      \"column\": \"Levy\",\n      \"properties\": {\n        \"dtype\": \"category\",\n        \"num_unique_values\": 559,\n        \"samples\": [\n          \"638\",\n          \"2216\",\n          \"1095\"\n        ],\n        \"semantic_type\": \"\",\n        \"description\": \"\"\n      }\n    },\n    {\n      \"column\": \"Manufacturer\",\n      \"properties\": {\n        \"dtype\": \"category\",\n        \"num_unique_values\": 65,\n        \"samples\": [\n          \"SEAT\",\n          \"ROLLS-ROYCE\",\n          \"LEXUS\"\n        ],\n        \"semantic_type\": \"\",\n        \"description\": \"\"\n      }\n    },\n    {\n      \"column\": \"Model\",\n      \"properties\": {\n        \"dtype\": \"category\",\n        \"num_unique_values\": 1590,\n        \"samples\": [\n          \"Fusion Bybrid\",\n          \"Bluebird\",\n          \"Prius Plug in\"\n        ],\n        \"semantic_type\": \"\",\n        \"description\": \"\"\n      }\n    },\n    {\n      \"column\": \"Prod. year\",\n      \"properties\": {\n        \"dtype\": \"number\",\n        \"std\": 5,\n        \"min\": 1939,\n        \"max\": 2020,\n        \"num_unique_values\": 54,\n        \"samples\": [\n          2004,\n          1968,\n          1939\n        ],\n        \"semantic_type\": \"\",\n        \"description\": \"\"\n      }\n    },\n    {\n      \"column\": \"Category\",\n      \"properties\": {\n        \"dtype\": \"category\",\n        \"num_unique_values\": 11,\n        \"samples\": [\n          \"Universal\",\n          \"Jeep\",\n          \"Limousine\"\n        ],\n        \"semantic_type\": \"\",\n        \"description\": \"\"\n      }\n    },\n    {\n      \"column\": \"Leather interior\",\n      \"properties\": {\n        \"dtype\": \"category\",\n        \"num_unique_values\": 2,\n        \"samples\": [\n          \"No\",\n          \"Yes\"\n        ],\n        \"semantic_type\": \"\",\n        \"description\": \"\"\n      }\n    },\n    {\n      \"column\": \"Fuel type\",\n      \"properties\": {\n        \"dtype\": \"category\",\n        \"num_unique_values\": 7,\n        \"samples\": [\n          \"Hybrid\",\n          \"Petrol\"\n        ],\n        \"semantic_type\": \"\",\n        \"description\": \"\"\n      }\n    },\n    {\n      \"column\": \"Engine volume\",\n      \"properties\": {\n        \"dtype\": \"category\",\n        \"num_unique_values\": 107,\n        \"samples\": [\n          \"3.7 Turbo\",\n          \"2.0 Turbo\"\n        ],\n        \"semantic_type\": \"\",\n        \"description\": \"\"\n      }\n    },\n    {\n      \"column\": \"Mileage\",\n      \"properties\": {\n        \"dtype\": \"category\",\n        \"num_unique_values\": 7687,\n        \"samples\": [\n          \"20147 km\",\n          \"70800 km\"\n        ],\n        \"semantic_type\": \"\",\n        \"description\": \"\"\n      }\n    },\n    {\n      \"column\": \"Cylinders\",\n      \"properties\": {\n        \"dtype\": \"number\",\n        \"std\": 1.1999331679654894,\n        \"min\": 1.0,\n        \"max\": 16.0,\n        \"num_unique_values\": 13,\n        \"samples\": [\n          10.0,\n          7.0\n        ],\n        \"semantic_type\": \"\",\n        \"description\": \"\"\n      }\n    },\n    {\n      \"column\": \"Gear box type\",\n      \"properties\": {\n        \"dtype\": \"category\",\n        \"num_unique_values\": 4,\n        \"samples\": [\n          \"Tiptronic\",\n          \"Manual\"\n        ],\n        \"semantic_type\": \"\",\n        \"description\": \"\"\n      }\n    },\n    {\n      \"column\": \"Drive wheels\",\n      \"properties\": {\n        \"dtype\": \"category\",\n        \"num_unique_values\": 3,\n        \"samples\": [\n          \"4x4\",\n          \"Front\"\n        ],\n        \"semantic_type\": \"\",\n        \"description\": \"\"\n      }\n    },\n    {\n      \"column\": \"Doors\",\n      \"properties\": {\n        \"dtype\": \"category\",\n        \"num_unique_values\": 3,\n        \"samples\": [\n          \"04-May\",\n          \"02-Mar\"\n        ],\n        \"semantic_type\": \"\",\n        \"description\": \"\"\n      }\n    },\n    {\n      \"column\": \"Wheel\",\n      \"properties\": {\n        \"dtype\": \"category\",\n        \"num_unique_values\": 2,\n        \"samples\": [\n          \"Right-hand drive\",\n          \"Left wheel\"\n        ],\n        \"semantic_type\": \"\",\n        \"description\": \"\"\n      }\n    },\n    {\n      \"column\": \"Color\",\n      \"properties\": {\n        \"dtype\": \"category\",\n        \"num_unique_values\": 16,\n        \"samples\": [\n          \"Silver\",\n          \"Black\"\n        ],\n        \"semantic_type\": \"\",\n        \"description\": \"\"\n      }\n    },\n    {\n      \"column\": \"Airbags\",\n      \"properties\": {\n        \"dtype\": \"number\",\n        \"std\": 4,\n        \"min\": 0,\n        \"max\": 16,\n        \"num_unique_values\": 17,\n        \"samples\": [\n          12,\n          8\n        ],\n        \"semantic_type\": \"\",\n        \"description\": \"\"\n      }\n    }\n  ]\n}",
              "type": "dataframe",
              "variable_name": "df"
            },
            "text/html": [
              "\n",
              "  <div id=\"df-e9bf547a-88eb-4013-a8b2-3c4cfbfd4c5a\" class=\"colab-df-container\">\n",
              "    <div>\n",
              "<style scoped>\n",
              "    .dataframe tbody tr th:only-of-type {\n",
              "        vertical-align: middle;\n",
              "    }\n",
              "\n",
              "    .dataframe tbody tr th {\n",
              "        vertical-align: top;\n",
              "    }\n",
              "\n",
              "    .dataframe thead th {\n",
              "        text-align: right;\n",
              "    }\n",
              "</style>\n",
              "<table border=\"1\" class=\"dataframe\">\n",
              "  <thead>\n",
              "    <tr style=\"text-align: right;\">\n",
              "      <th></th>\n",
              "      <th>ID</th>\n",
              "      <th>Price</th>\n",
              "      <th>Levy</th>\n",
              "      <th>Manufacturer</th>\n",
              "      <th>Model</th>\n",
              "      <th>Prod. year</th>\n",
              "      <th>Category</th>\n",
              "      <th>Leather interior</th>\n",
              "      <th>Fuel type</th>\n",
              "      <th>Engine volume</th>\n",
              "      <th>Mileage</th>\n",
              "      <th>Cylinders</th>\n",
              "      <th>Gear box type</th>\n",
              "      <th>Drive wheels</th>\n",
              "      <th>Doors</th>\n",
              "      <th>Wheel</th>\n",
              "      <th>Color</th>\n",
              "      <th>Airbags</th>\n",
              "    </tr>\n",
              "  </thead>\n",
              "  <tbody>\n",
              "    <tr>\n",
              "      <th>0</th>\n",
              "      <td>45654403</td>\n",
              "      <td>13328</td>\n",
              "      <td>1399</td>\n",
              "      <td>LEXUS</td>\n",
              "      <td>RX 450</td>\n",
              "      <td>2010</td>\n",
              "      <td>Jeep</td>\n",
              "      <td>Yes</td>\n",
              "      <td>Hybrid</td>\n",
              "      <td>3.5</td>\n",
              "      <td>186005 km</td>\n",
              "      <td>6.0</td>\n",
              "      <td>Automatic</td>\n",
              "      <td>4x4</td>\n",
              "      <td>04-May</td>\n",
              "      <td>Left wheel</td>\n",
              "      <td>Silver</td>\n",
              "      <td>12</td>\n",
              "    </tr>\n",
              "    <tr>\n",
              "      <th>1</th>\n",
              "      <td>44731507</td>\n",
              "      <td>16621</td>\n",
              "      <td>1018</td>\n",
              "      <td>CHEVROLET</td>\n",
              "      <td>Equinox</td>\n",
              "      <td>2011</td>\n",
              "      <td>Jeep</td>\n",
              "      <td>No</td>\n",
              "      <td>Petrol</td>\n",
              "      <td>3</td>\n",
              "      <td>192000 km</td>\n",
              "      <td>6.0</td>\n",
              "      <td>Tiptronic</td>\n",
              "      <td>4x4</td>\n",
              "      <td>04-May</td>\n",
              "      <td>Left wheel</td>\n",
              "      <td>Black</td>\n",
              "      <td>8</td>\n",
              "    </tr>\n",
              "    <tr>\n",
              "      <th>2</th>\n",
              "      <td>45774419</td>\n",
              "      <td>8467</td>\n",
              "      <td>-</td>\n",
              "      <td>HONDA</td>\n",
              "      <td>FIT</td>\n",
              "      <td>2006</td>\n",
              "      <td>Hatchback</td>\n",
              "      <td>No</td>\n",
              "      <td>Petrol</td>\n",
              "      <td>1.3</td>\n",
              "      <td>200000 km</td>\n",
              "      <td>4.0</td>\n",
              "      <td>Variator</td>\n",
              "      <td>Front</td>\n",
              "      <td>04-May</td>\n",
              "      <td>Right-hand drive</td>\n",
              "      <td>Black</td>\n",
              "      <td>2</td>\n",
              "    </tr>\n",
              "    <tr>\n",
              "      <th>3</th>\n",
              "      <td>45769185</td>\n",
              "      <td>3607</td>\n",
              "      <td>862</td>\n",
              "      <td>FORD</td>\n",
              "      <td>Escape</td>\n",
              "      <td>2011</td>\n",
              "      <td>Jeep</td>\n",
              "      <td>Yes</td>\n",
              "      <td>Hybrid</td>\n",
              "      <td>2.5</td>\n",
              "      <td>168966 km</td>\n",
              "      <td>4.0</td>\n",
              "      <td>Automatic</td>\n",
              "      <td>4x4</td>\n",
              "      <td>04-May</td>\n",
              "      <td>Left wheel</td>\n",
              "      <td>White</td>\n",
              "      <td>0</td>\n",
              "    </tr>\n",
              "    <tr>\n",
              "      <th>4</th>\n",
              "      <td>45809263</td>\n",
              "      <td>11726</td>\n",
              "      <td>446</td>\n",
              "      <td>HONDA</td>\n",
              "      <td>FIT</td>\n",
              "      <td>2014</td>\n",
              "      <td>Hatchback</td>\n",
              "      <td>Yes</td>\n",
              "      <td>Petrol</td>\n",
              "      <td>1.3</td>\n",
              "      <td>91901 km</td>\n",
              "      <td>4.0</td>\n",
              "      <td>Automatic</td>\n",
              "      <td>Front</td>\n",
              "      <td>04-May</td>\n",
              "      <td>Left wheel</td>\n",
              "      <td>Silver</td>\n",
              "      <td>4</td>\n",
              "    </tr>\n",
              "  </tbody>\n",
              "</table>\n",
              "</div>\n",
              "    <div class=\"colab-df-buttons\">\n",
              "\n",
              "  <div class=\"colab-df-container\">\n",
              "    <button class=\"colab-df-convert\" onclick=\"convertToInteractive('df-e9bf547a-88eb-4013-a8b2-3c4cfbfd4c5a')\"\n",
              "            title=\"Convert this dataframe to an interactive table.\"\n",
              "            style=\"display:none;\">\n",
              "\n",
              "  <svg xmlns=\"http://www.w3.org/2000/svg\" height=\"24px\" viewBox=\"0 -960 960 960\">\n",
              "    <path d=\"M120-120v-720h720v720H120Zm60-500h600v-160H180v160Zm220 220h160v-160H400v160Zm0 220h160v-160H400v160ZM180-400h160v-160H180v160Zm440 0h160v-160H620v160ZM180-180h160v-160H180v160Zm440 0h160v-160H620v160Z\"/>\n",
              "  </svg>\n",
              "    </button>\n",
              "\n",
              "  <style>\n",
              "    .colab-df-container {\n",
              "      display:flex;\n",
              "      gap: 12px;\n",
              "    }\n",
              "\n",
              "    .colab-df-convert {\n",
              "      background-color: #E8F0FE;\n",
              "      border: none;\n",
              "      border-radius: 50%;\n",
              "      cursor: pointer;\n",
              "      display: none;\n",
              "      fill: #1967D2;\n",
              "      height: 32px;\n",
              "      padding: 0 0 0 0;\n",
              "      width: 32px;\n",
              "    }\n",
              "\n",
              "    .colab-df-convert:hover {\n",
              "      background-color: #E2EBFA;\n",
              "      box-shadow: 0px 1px 2px rgba(60, 64, 67, 0.3), 0px 1px 3px 1px rgba(60, 64, 67, 0.15);\n",
              "      fill: #174EA6;\n",
              "    }\n",
              "\n",
              "    .colab-df-buttons div {\n",
              "      margin-bottom: 4px;\n",
              "    }\n",
              "\n",
              "    [theme=dark] .colab-df-convert {\n",
              "      background-color: #3B4455;\n",
              "      fill: #D2E3FC;\n",
              "    }\n",
              "\n",
              "    [theme=dark] .colab-df-convert:hover {\n",
              "      background-color: #434B5C;\n",
              "      box-shadow: 0px 1px 3px 1px rgba(0, 0, 0, 0.15);\n",
              "      filter: drop-shadow(0px 1px 2px rgba(0, 0, 0, 0.3));\n",
              "      fill: #FFFFFF;\n",
              "    }\n",
              "  </style>\n",
              "\n",
              "    <script>\n",
              "      const buttonEl =\n",
              "        document.querySelector('#df-e9bf547a-88eb-4013-a8b2-3c4cfbfd4c5a button.colab-df-convert');\n",
              "      buttonEl.style.display =\n",
              "        google.colab.kernel.accessAllowed ? 'block' : 'none';\n",
              "\n",
              "      async function convertToInteractive(key) {\n",
              "        const element = document.querySelector('#df-e9bf547a-88eb-4013-a8b2-3c4cfbfd4c5a');\n",
              "        const dataTable =\n",
              "          await google.colab.kernel.invokeFunction('convertToInteractive',\n",
              "                                                    [key], {});\n",
              "        if (!dataTable) return;\n",
              "\n",
              "        const docLinkHtml = 'Like what you see? Visit the ' +\n",
              "          '<a target=\"_blank\" href=https://colab.research.google.com/notebooks/data_table.ipynb>data table notebook</a>'\n",
              "          + ' to learn more about interactive tables.';\n",
              "        element.innerHTML = '';\n",
              "        dataTable['output_type'] = 'display_data';\n",
              "        await google.colab.output.renderOutput(dataTable, element);\n",
              "        const docLink = document.createElement('div');\n",
              "        docLink.innerHTML = docLinkHtml;\n",
              "        element.appendChild(docLink);\n",
              "      }\n",
              "    </script>\n",
              "  </div>\n",
              "\n",
              "\n",
              "<div id=\"df-ed861f0e-877f-46e4-a3a0-6f5c4d72b67e\">\n",
              "  <button class=\"colab-df-quickchart\" onclick=\"quickchart('df-ed861f0e-877f-46e4-a3a0-6f5c4d72b67e')\"\n",
              "            title=\"Suggest charts\"\n",
              "            style=\"display:none;\">\n",
              "\n",
              "<svg xmlns=\"http://www.w3.org/2000/svg\" height=\"24px\"viewBox=\"0 0 24 24\"\n",
              "     width=\"24px\">\n",
              "    <g>\n",
              "        <path d=\"M19 3H5c-1.1 0-2 .9-2 2v14c0 1.1.9 2 2 2h14c1.1 0 2-.9 2-2V5c0-1.1-.9-2-2-2zM9 17H7v-7h2v7zm4 0h-2V7h2v10zm4 0h-2v-4h2v4z\"/>\n",
              "    </g>\n",
              "</svg>\n",
              "  </button>\n",
              "\n",
              "<style>\n",
              "  .colab-df-quickchart {\n",
              "      --bg-color: #E8F0FE;\n",
              "      --fill-color: #1967D2;\n",
              "      --hover-bg-color: #E2EBFA;\n",
              "      --hover-fill-color: #174EA6;\n",
              "      --disabled-fill-color: #AAA;\n",
              "      --disabled-bg-color: #DDD;\n",
              "  }\n",
              "\n",
              "  [theme=dark] .colab-df-quickchart {\n",
              "      --bg-color: #3B4455;\n",
              "      --fill-color: #D2E3FC;\n",
              "      --hover-bg-color: #434B5C;\n",
              "      --hover-fill-color: #FFFFFF;\n",
              "      --disabled-bg-color: #3B4455;\n",
              "      --disabled-fill-color: #666;\n",
              "  }\n",
              "\n",
              "  .colab-df-quickchart {\n",
              "    background-color: var(--bg-color);\n",
              "    border: none;\n",
              "    border-radius: 50%;\n",
              "    cursor: pointer;\n",
              "    display: none;\n",
              "    fill: var(--fill-color);\n",
              "    height: 32px;\n",
              "    padding: 0;\n",
              "    width: 32px;\n",
              "  }\n",
              "\n",
              "  .colab-df-quickchart:hover {\n",
              "    background-color: var(--hover-bg-color);\n",
              "    box-shadow: 0 1px 2px rgba(60, 64, 67, 0.3), 0 1px 3px 1px rgba(60, 64, 67, 0.15);\n",
              "    fill: var(--button-hover-fill-color);\n",
              "  }\n",
              "\n",
              "  .colab-df-quickchart-complete:disabled,\n",
              "  .colab-df-quickchart-complete:disabled:hover {\n",
              "    background-color: var(--disabled-bg-color);\n",
              "    fill: var(--disabled-fill-color);\n",
              "    box-shadow: none;\n",
              "  }\n",
              "\n",
              "  .colab-df-spinner {\n",
              "    border: 2px solid var(--fill-color);\n",
              "    border-color: transparent;\n",
              "    border-bottom-color: var(--fill-color);\n",
              "    animation:\n",
              "      spin 1s steps(1) infinite;\n",
              "  }\n",
              "\n",
              "  @keyframes spin {\n",
              "    0% {\n",
              "      border-color: transparent;\n",
              "      border-bottom-color: var(--fill-color);\n",
              "      border-left-color: var(--fill-color);\n",
              "    }\n",
              "    20% {\n",
              "      border-color: transparent;\n",
              "      border-left-color: var(--fill-color);\n",
              "      border-top-color: var(--fill-color);\n",
              "    }\n",
              "    30% {\n",
              "      border-color: transparent;\n",
              "      border-left-color: var(--fill-color);\n",
              "      border-top-color: var(--fill-color);\n",
              "      border-right-color: var(--fill-color);\n",
              "    }\n",
              "    40% {\n",
              "      border-color: transparent;\n",
              "      border-right-color: var(--fill-color);\n",
              "      border-top-color: var(--fill-color);\n",
              "    }\n",
              "    60% {\n",
              "      border-color: transparent;\n",
              "      border-right-color: var(--fill-color);\n",
              "    }\n",
              "    80% {\n",
              "      border-color: transparent;\n",
              "      border-right-color: var(--fill-color);\n",
              "      border-bottom-color: var(--fill-color);\n",
              "    }\n",
              "    90% {\n",
              "      border-color: transparent;\n",
              "      border-bottom-color: var(--fill-color);\n",
              "    }\n",
              "  }\n",
              "</style>\n",
              "\n",
              "  <script>\n",
              "    async function quickchart(key) {\n",
              "      const quickchartButtonEl =\n",
              "        document.querySelector('#' + key + ' button');\n",
              "      quickchartButtonEl.disabled = true;  // To prevent multiple clicks.\n",
              "      quickchartButtonEl.classList.add('colab-df-spinner');\n",
              "      try {\n",
              "        const charts = await google.colab.kernel.invokeFunction(\n",
              "            'suggestCharts', [key], {});\n",
              "      } catch (error) {\n",
              "        console.error('Error during call to suggestCharts:', error);\n",
              "      }\n",
              "      quickchartButtonEl.classList.remove('colab-df-spinner');\n",
              "      quickchartButtonEl.classList.add('colab-df-quickchart-complete');\n",
              "    }\n",
              "    (() => {\n",
              "      let quickchartButtonEl =\n",
              "        document.querySelector('#df-ed861f0e-877f-46e4-a3a0-6f5c4d72b67e button');\n",
              "      quickchartButtonEl.style.display =\n",
              "        google.colab.kernel.accessAllowed ? 'block' : 'none';\n",
              "    })();\n",
              "  </script>\n",
              "</div>\n",
              "\n",
              "    </div>\n",
              "  </div>\n"
            ],
            "text/plain": [
              "         ID  Price  Levy Manufacturer    Model  Prod. year   Category  \\\n",
              "0  45654403  13328  1399        LEXUS   RX 450        2010       Jeep   \n",
              "1  44731507  16621  1018    CHEVROLET  Equinox        2011       Jeep   \n",
              "2  45774419   8467     -        HONDA      FIT        2006  Hatchback   \n",
              "3  45769185   3607   862         FORD   Escape        2011       Jeep   \n",
              "4  45809263  11726   446        HONDA      FIT        2014  Hatchback   \n",
              "\n",
              "  Leather interior Fuel type Engine volume    Mileage  Cylinders  \\\n",
              "0              Yes    Hybrid           3.5  186005 km        6.0   \n",
              "1               No    Petrol             3  192000 km        6.0   \n",
              "2               No    Petrol           1.3  200000 km        4.0   \n",
              "3              Yes    Hybrid           2.5  168966 km        4.0   \n",
              "4              Yes    Petrol           1.3   91901 km        4.0   \n",
              "\n",
              "  Gear box type Drive wheels   Doors             Wheel   Color  Airbags  \n",
              "0     Automatic          4x4  04-May        Left wheel  Silver       12  \n",
              "1     Tiptronic          4x4  04-May        Left wheel   Black        8  \n",
              "2      Variator        Front  04-May  Right-hand drive   Black        2  \n",
              "3     Automatic          4x4  04-May        Left wheel   White        0  \n",
              "4     Automatic        Front  04-May        Left wheel  Silver        4  "
            ]
          },
          "execution_count": 81,
          "metadata": {},
          "output_type": "execute_result"
        }
      ],
      "source": [
        "# Mount Google Drive\n",
        "drive.mount('/content/drive')\n",
        "\n",
        "# Path to your file\n",
        "file_path = '/content/drive/My Drive/car_price_prediction.csv'\n",
        "\n",
        "# Load the data into a DataFrame\n",
        "df = pd.read_csv(file_path)\n",
        "\n",
        "df.head()"
      ]
    },
    {
      "cell_type": "code",
      "execution_count": null,
      "metadata": {
        "id": "DKARH-UJykAd"
      },
      "outputs": [],
      "source": [
        "#Data Preprocessing and Splits\n",
        "#remove km and convert from string to int\n",
        "df['Mileage'] = df['Mileage'].str.replace(' km', '').astype(int)\n",
        "\n",
        "# Function to remove 'turbo' and convert to numeric\n",
        "def clean_engine(value):\n",
        "    if 'turbo' in value:\n",
        "        value = value.replace(' turbo', '')\n",
        "    return pd.to_numeric(value, errors='coerce')\n",
        "\n",
        "# Apply the function to the 'Engine' column\n",
        "df['Engine volume'] = df['Engine volume'].apply(clean_engine)\n",
        "\n",
        "#convert doors from string to numeric\n",
        "# Function to extract numbers from strings\n",
        "def extract_numbers(column):\n",
        "    return column.apply(lambda x: re.findall(r'\\d+', x)[0])\n",
        "#apply doors extraction function to column and re-type as a float\n",
        "df['Doors'] = extract_numbers(df['Doors']).astype(float)\n",
        "\n",
        "#NOTE THAT THERE ARE ALWAYS TAXES AND FEES SO WE NEED TO DISCUSS WHAT TO DO WITH THIS COLUMN WHEN 0 OR JUST LEAVE IT AND CALL IT OUT IN PRESENTATION\n",
        "# Replace non-numeric values (e.g., '-') for the Levy Column - the Levy column is taxes and fees upon purchase\n",
        "df.replace('-', 0, inplace=True)\n",
        "\n",
        "\n",
        "# Convert appropriate columns to numeric types (assuming these columns are supposed to be numeric)\n",
        "#['ID', 'Levy','Price', 'Prod. year', 'Cylinders', 'Airbags','Engine volume', 'Mileage','Doors']\n",
        "columns_to_convert=['ID', 'Levy','Price', 'Prod. year', 'Cylinders', 'Airbags','Engine volume', 'Mileage','Doors']\n",
        "\n",
        "for column in columns_to_convert:\n",
        "    df[column] = pd.to_numeric(df[column])\n",
        "\n",
        "# Drop rows with missing values - there are none but we can leave this here anyway\n",
        "df.dropna(inplace=True)\n",
        "\n",
        "# Calculate car age\n",
        "df['car_age'] = 2024 - df['Prod. year']\n",
        "#drop prod year - optional\n",
        "#df = df.drop(columns=['Prod. year'])\n",
        "\n",
        "# Mileage per year\n",
        "df['mileage_per_year'] = df['Mileage'] / df['car_age']\n",
        "\n",
        "#drive train rename\n",
        "df['Drive wheels'] = df['Drive wheels'].replace('4x4', '4WD')\n",
        "\n",
        "#Split labels\n",
        "column_names_list = list(df.columns)\n",
        "column_names_list.remove('Price')\n",
        "X_train=df[column_names_list]\n",
        "Y_train=df['Price']\n",
        "\n",
        "# Split the data into training and validation sets 60/20/20\n",
        "X_train, X_test, y_train, y_test = train_test_split(X_train, Y_train, test_size=0.2, random_state=42)\n",
        "X_train, X_val, y_train, y_val = train_test_split(X_train, y_train, test_size=0.25, random_state=42)"
      ]
    },
    {
      "cell_type": "code",
      "execution_count": null,
      "metadata": {
        "colab": {
          "base_uri": "https://localhost:8080/"
        },
        "id": "9N3Rr8P8GExk",
        "outputId": "7a51f4e0-5abd-423f-a690-b98481527e16"
      },
      "outputs": [
        {
          "data": {
            "text/plain": [
              "ID                    int64\n",
              "Levy                  int64\n",
              "Manufacturer         object\n",
              "Model                object\n",
              "Prod. year            int64\n",
              "Category             object\n",
              "Leather interior     object\n",
              "Fuel type            object\n",
              "Engine volume       float64\n",
              "Mileage               int64\n",
              "Cylinders           float64\n",
              "Gear box type        object\n",
              "Drive wheels         object\n",
              "Doors               float64\n",
              "Wheel                object\n",
              "Color                object\n",
              "Airbags               int64\n",
              "car_age               int64\n",
              "mileage_per_year    float64\n",
              "dtype: object"
            ]
          },
          "execution_count": 29,
          "metadata": {},
          "output_type": "execute_result"
        }
      ],
      "source": [
        "X_train.dtypes"
      ]
    },
    {
      "cell_type": "code",
      "execution_count": null,
      "metadata": {
        "colab": {
          "base_uri": "https://localhost:8080/"
        },
        "id": "eUgtX1SzyqYF",
        "outputId": "4353de83-954b-4102-ca19-fef347e85b31"
      },
      "outputs": [
        {
          "name": "stdout",
          "output_type": "stream",
          "text": [
            "+-------+-------------+------------+---------+------------+---------------+--------------+-----------+---------+---------+---------+------------------+\n",
            "|       |     ID      |   Price    |  Levy   | Prod. year | Engine volume |   Mileage    | Cylinders |  Doors  | Airbags | car_age | mileage_per_year |\n",
            "+-------+-------------+------------+---------+------------+---------------+--------------+-----------+---------+---------+---------+------------------+\n",
            "| count |   17306.0   |  17306.0   | 17306.0 |  17306.0   |    17306.0    |   17306.0    |  17306.0  | 17306.0 | 17306.0 | 17306.0 |     17306.0      |\n",
            "| mean  | 45600220.25 |  17449.61  | 664.13  |  2011.06   |     2.31      |  1556668.76  |   4.57    |  3.94   |  6.49   |  12.94  |     73502.83     |\n",
            "|  std  |  880143.68  | 200619.25  |  567.5  |    5.64    |     0.89      | 48346103.31  |   1.18    |  0.37   |  4.33   |  5.64   |    2165235.89    |\n",
            "|  min  | 20746880.0  |    1.0     |   0.0   |   1939.0   |      0.0      |     0.0      |    1.0    |   2.0   |   0.0   |   4.0   |       0.0        |\n",
            "|  25%  | 45725260.5  |   4547.0   |   0.0   |   2010.0   |      1.8      |   70994.0    |    4.0    |   4.0   |   4.0   |   9.0   |      6500.0      |\n",
            "|  50%  | 45772566.0  |  12276.5   |  694.0  |   2012.0   |      2.0      |   126000.0   |    4.0    |   4.0   |   4.0   |  12.0   |     10126.23     |\n",
            "|  75%  | 45802482.75 |  21103.0   |  934.0  |   2015.0   |      2.5      |   188194.0   |    4.0    |   4.0   |  12.0   |  14.0   |     14400.0      |\n",
            "|  max  | 45816654.0  | 26307500.0 | 11714.0 |   2020.0   |     20.0      | 2147483647.0 |   16.0    |   5.0   |  16.0   |  85.0   |   134217727.94   |\n",
            "+-------+-------------+------------+---------+------------+---------------+--------------+-----------+---------+---------+---------+------------------+\n"
          ]
        }
      ],
      "source": [
        "# Get the summary statistics\n",
        "summary = df.describe().round(2)\n",
        "\n",
        "# Create a list of the headers and rows\n",
        "headers = summary.columns.tolist()\n",
        "rows = summary.reset_index().values.tolist()\n",
        "\n",
        "# Print the formatted table\n",
        "print(tabulate(rows, headers=headers, tablefmt='pretty'))"
      ]
    },
    {
      "cell_type": "code",
      "execution_count": null,
      "metadata": {
        "colab": {
          "base_uri": "https://localhost:8080/"
        },
        "id": "z7y_mEBmysO8",
        "outputId": "cb815abc-a03a-4c9d-c00a-4858c2eff76d"
      },
      "outputs": [
        {
          "name": "stdout",
          "output_type": "stream",
          "text": [
            "         ID  Price  Levy Manufacturer     Model   Category Leather interior  \\\n",
            "0  45654403  13328  1399        LEXUS    RX 450       Jeep              Yes   \n",
            "1  44731507  16621  1018    CHEVROLET   Equinox       Jeep               No   \n",
            "3  45769185   3607   862         FORD    Escape       Jeep              Yes   \n",
            "4  45809263  11726   446        HONDA       FIT  Hatchback              Yes   \n",
            "5  45802912  39493   891      HYUNDAI  Santa FE       Jeep              Yes   \n",
            "\n",
            "  Fuel type  Engine volume  Cylinders Gear box type Drive wheels  Doors  \\\n",
            "0    Hybrid            3.5        6.0     Automatic          4WD    4.0   \n",
            "1    Petrol            3.0        6.0     Tiptronic          4WD    4.0   \n",
            "3    Hybrid            2.5        4.0     Automatic          4WD    4.0   \n",
            "4    Petrol            1.3        4.0     Automatic        Front    4.0   \n",
            "5    Diesel            2.0        4.0     Automatic        Front    4.0   \n",
            "\n",
            "        Wheel   Color  Airbags  car_age  mileage_per_year  \n",
            "0  Left wheel  Silver       12       14      13286.071429  \n",
            "1  Left wheel   Black        8       13      14769.230769  \n",
            "3  Left wheel   White        0       13      12997.384615  \n",
            "4  Left wheel  Silver        4       10       9190.100000  \n",
            "5  Left wheel   White        4        8      20116.375000  \n"
          ]
        }
      ],
      "source": [
        "print(df.head(5))\n",
        "\n"
      ]
    },
    {
      "cell_type": "code",
      "execution_count": null,
      "metadata": {
        "colab": {
          "base_uri": "https://localhost:8080/"
        },
        "id": "xnn_tjtxAhS-",
        "outputId": "573c8598-1de1-4497-e408-1a10ac90751c"
      },
      "outputs": [
        {
          "name": "stdout",
          "output_type": "stream",
          "text": [
            "Index(['ID', 'Price', 'Levy', 'Engine volume', 'Mileage', 'Cylinders', 'Doors',\n",
            "       'Airbags', 'car_age', 'mileage_per_year'],\n",
            "      dtype='object')\n",
            "Index(['ID', 'Price', 'Levy', 'Manufacturer', 'Model', 'Category',\n",
            "       'Leather interior', 'Fuel type', 'Engine volume', 'Mileage',\n",
            "       'Cylinders', 'Gear box type', 'Drive wheels', 'Doors', 'Wheel', 'Color',\n",
            "       'Airbags', 'car_age', 'mileage_per_year'],\n",
            "      dtype='object')\n"
          ]
        }
      ],
      "source": [
        "# Identify numerical columns\n",
        "numerical_columns = df.select_dtypes(include=['float64','int64']).columns\n",
        "print(numerical_columns)\n",
        "print(df.columns)"
      ]
    },
    {
      "cell_type": "code",
      "execution_count": null,
      "metadata": {
        "colab": {
          "base_uri": "https://localhost:8080/",
          "height": 391
        },
        "id": "UGzZgg_0yuO1",
        "outputId": "5e6d4534-ce75-4c4a-ea35-7a246afa3643"
      },
      "outputs": [
        {
          "data": {
            "image/png": "[encoded data removed]",
            "text/plain": [
              "<Figure size 800x400 with 1 Axes>"
            ]
          },
          "metadata": {},
          "output_type": "display_data"
        }
      ],
      "source": [
        "df['Mileage'].plot(kind='line', figsize=(8, 4), title='Mileage')\n",
        "plt.gca().spines[['top', 'right']].set_visible(False)"
      ]
    },
    {
      "cell_type": "code",
      "execution_count": null,
      "metadata": {
        "colab": {
          "base_uri": "https://localhost:8080/",
          "height": 564
        },
        "id": "_d1vaMnsyw5s",
        "outputId": "4b713479-abb9-4412-8b7f-4674aebfb42b"
      },
      "outputs": [
        {
          "data": {
            "image/png": "[encoded data removed]",
            "text/plain": [
              "<Figure size 1000x600 with 1 Axes>"
            ]
          },
          "metadata": {},
          "output_type": "display_data"
        }
      ],
      "source": [
        "from matplotlib import pyplot as plt\n",
        "\n",
        "# Plot the histogram\n",
        "plt.figure(figsize=(10, 6))\n",
        "hist = df['Prod. year'].plot(kind='hist', bins=10, title='Prod. year', edgecolor='black')\n",
        "plt.gca().spines[['top', 'right']].set_visible(False)\n",
        "plt.xlabel('Production Year')\n",
        "plt.ylabel('Count')\n",
        "\n",
        "for p in hist.patches:\n",
        "    height = p.get_height()\n",
        "    plt.annotate(f'{int(height)}', xy=(p.get_x() + p.get_width() / 2, height),\n",
        "                 xytext=(0, 5), textcoords='offset points', ha='center', va='bottom')\n",
        "\n",
        "plt.show()"
      ]
    },
    {
      "cell_type": "code",
      "execution_count": null,
      "metadata": {
        "colab": {
          "base_uri": "https://localhost:8080/",
          "height": 430
        },
        "id": "IRvVsILVy0hm",
        "outputId": "8e30ce2b-2dcb-4241-94ba-3e4bdb19dc6d"
      },
      "outputs": [
        {
          "data": {
            "image/png": "[encoded data removed]",
            "text/plain": [
              "<Figure size 640x480 with 1 Axes>"
            ]
          },
          "metadata": {},
          "output_type": "display_data"
        }
      ],
      "source": [
        "# Gear box type\n",
        "import seaborn as sns\n",
        "df.groupby('Gear box type').size().plot(kind='barh', color=sns.palettes.mpl_palette('Dark2'))\n",
        "plt.gca().spines[['top', 'right',]].set_visible(False)"
      ]
    },
    {
      "cell_type": "code",
      "execution_count": null,
      "metadata": {
        "colab": {
          "base_uri": "https://localhost:8080/",
          "height": 757
        },
        "id": "xX-4L5kmy2se",
        "outputId": "8bb793b5-50bd-41f3-a025-1ec320370adc"
      },
      "outputs": [
        {
          "data": {
            "image/png": "[encoded data removed]",
            "text/plain": [
              "<Figure size 1200x800 with 1 Axes>"
            ]
          },
          "metadata": {},
          "output_type": "display_data"
        }
      ],
      "source": [
        "# Limit the number of car models shown (optional)\n",
        "top_models = df['Model'].value_counts().nlargest(10).index\n",
        "filtered_df = df[df['Model'].isin(top_models)]\n",
        "\n",
        "# Create the box plot\n",
        "plt.figure(figsize=(12, 8))\n",
        "sns.boxplot(x='Model', y='Price', data=filtered_df)\n",
        "plt.title('Car Model vs. Price')\n",
        "plt.xlabel('Car Model')\n",
        "plt.ylabel('Price')\n",
        "plt.xticks(rotation=45)\n",
        "plt.gca().spines[['top', 'right']].set_visible(False)\n",
        "plt.show()"
      ]
    },
    {
      "cell_type": "code",
      "execution_count": null,
      "metadata": {
        "colab": {
          "base_uri": "https://localhost:8080/",
          "height": 564
        },
        "id": "Qj27Pqusy43R",
        "outputId": "5efd9ccb-8743-4eb2-cf2e-d4b48ae55e30"
      },
      "outputs": [
        {
          "data": {
            "image/png": "[encoded data removed]",
            "text/plain": [
              "<Figure size 1000x600 with 1 Axes>"
            ]
          },
          "metadata": {},
          "output_type": "display_data"
        }
      ],
      "source": [
        "# Sort the dataframe by 'Prod. year' to plot the lines correctly\n",
        "df = df.sort_values('Prod. year')\n",
        "\n",
        "# Create the plot\n",
        "plt.figure(figsize=(10, 6))\n",
        "plt.plot(df['Prod. year'], df['Mileage'], color='blue', label='Mileage')\n",
        "plt.xlabel('Production Year')\n",
        "plt.ylabel('Mileage')\n",
        "plt.title('Year vs Mileage')\n",
        "plt.gca().spines[['top', 'right']].set_visible(False)\n",
        "\n",
        "# Add grid and legend\n",
        "plt.grid(True)\n",
        "plt.legend()\n",
        "plt.show()"
      ]
    },
    {
      "cell_type": "code",
      "execution_count": null,
      "metadata": {
        "id": "XrLnz3iky7hD"
      },
      "outputs": [],
      "source": [
        "# Define the range of mileage values to plot (adjust as needed)\n",
        "mileage_range = (0, 500000)  # Example: focusing on mileage values between 0 and 300,000 km\n",
        "\n",
        "# Plot the histogram with specified range and adjusted bins\n",
        "plt.figure(figsize=(10, 6))\n",
        "plt.hist(df['Mileage'], bins=50, range=mileage_range, edgecolor='black')  # Adjust bins and range\n",
        "plt.xlabel('Mileage')\n",
        "plt.ylabel('Frequency')\n",
        "plt.title('Distribution of Mileage')\n",
        "plt.grid(True)\n",
        "plt.gca().spines[['top', 'right']].set_visible(False)\n",
        "\n",
        "plt.show()"
      ]
    },
    {
      "cell_type": "code",
      "execution_count": null,
      "metadata": {
        "id": "_52wkn9ty9DM"
      },
      "outputs": [],
      "source": [
        "# Create the scatter plot\n",
        "plt.figure(figsize=(10, 6))\n",
        "plt.scatter(df['Prod. year'], df['Price'], alpha=0.5, edgecolor='black')\n",
        "plt.xlabel('Production Year')\n",
        "plt.ylabel('Price')\n",
        "plt.title('Production Year vs. Price')\n",
        "plt.grid(True)\n",
        "plt.gca().spines[['top', 'right']].set_visible(False)\n",
        "\n",
        "# Set the y-axis range\n",
        "plt.ylim(0, 300000)\n",
        "\n",
        "plt.show()"
      ]
    },
    {
      "cell_type": "code",
      "execution_count": null,
      "metadata": {
        "id": "4onwiMSCy-0E"
      },
      "outputs": [],
      "source": [
        "plt.figure(figsize=(10, 6))\n",
        "plt.scatter(df['Mileage'], df['Price'], alpha=0.5, edgecolor='black')\n",
        "plt.xlabel('Mileage')\n",
        "plt.ylabel('Price')\n",
        "plt.title('Mileage vs. Price')\n",
        "plt.grid(True)\n",
        "plt.gca().spines[['top', 'right']].set_visible(False)\n",
        "\n",
        "# Set the y-axis range\n",
        "plt.xlim(0, 1000000)\n",
        "plt.ylim(0, 200000)\n",
        "\n",
        "plt.show()"
      ]
    },
    {
      "cell_type": "code",
      "execution_count": null,
      "metadata": {
        "id": "R5kY9v3NxwDY"
      },
      "outputs": [],
      "source": []
    },
    {
      "cell_type": "code",
      "execution_count": null,
      "metadata": {
        "colab": {
          "base_uri": "https://localhost:8080/"
        },
        "id": "CWvAVCowGLxf",
        "outputId": "7156e768-3775-4ca9-d900-e25749c1ef50"
      },
      "outputs": [
        {
          "name": "stdout",
          "output_type": "stream",
          "text": [
            "(10383, 17)\n",
            "ID                    int64\n",
            "Levy                  int64\n",
            "Manufacturer         object\n",
            "Model                object\n",
            "Category             object\n",
            "Leather interior     object\n",
            "Fuel type            object\n",
            "Engine volume       float64\n",
            "Cylinders           float64\n",
            "Gear box type        object\n",
            "Drive wheels         object\n",
            "Doors               float64\n",
            "Wheel                object\n",
            "Color                object\n",
            "Airbags               int64\n",
            "car_age               int64\n",
            "mileage_per_year    float64\n",
            "dtype: object\n"
          ]
        }
      ],
      "source": [
        "print(X_train.shape)\n",
        "print(X_train.dtypes)"
      ]
    },
    {
      "cell_type": "code",
      "execution_count": null,
      "metadata": {
        "colab": {
          "base_uri": "https://localhost:8080/"
        },
        "id": "5qK54qo1z4KV",
        "outputId": "f25b5c08-8b49-45d2-b430-3b578a3779bd"
      },
      "outputs": [
        {
          "name": "stdout",
          "output_type": "stream",
          "text": [
            "MAPE: 2306.96%\n"
          ]
        }
      ],
      "source": [
        "#baseline model - linear regression, no feature engineering and evaluated using MAPE\n",
        "\n",
        "#Choose features to include in baseline model\n",
        "baseline_features=['Mileage','car_age','Cylinders','Engine volume']\n",
        "\n",
        "# Function to calculate MAPE\n",
        "def mean_absolute_percentage_error(y_true, y_pred):\n",
        "    return np.mean(np.abs((y_true - y_pred) / y_true)) * 100\n",
        "\n",
        "#Baseline model - no gradient descent - OLS regression\n",
        "model = LinearRegression()\n",
        "model.fit(X_train[baseline_features], y_train)\n",
        "\n",
        "# Make predictions\n",
        "y_pred = model.predict(X_test[baseline_features])\n",
        "\n",
        "# Calculate MAPE\n",
        "mape = mean_absolute_percentage_error(y_test, y_pred)\n",
        "\n",
        "print(f'MAPE: {mape:.2f}%')"
      ]
    },
    {
      "cell_type": "code",
      "execution_count": null,
      "metadata": {
        "colab": {
          "base_uri": "https://localhost:8080/"
        },
        "id": "9L6js8CUFC7M",
        "outputId": "7aec4c07-1349-43f3-cf70-46abf40dfb38"
      },
      "outputs": [
        {
          "data": {
            "text/plain": [
              "(10383, 4)"
            ]
          },
          "execution_count": 52,
          "metadata": {},
          "output_type": "execute_result"
        }
      ],
      "source": [
        "X_train[baseline_features].shape"
      ]
    },
    {
      "cell_type": "code",
      "execution_count": null,
      "metadata": {
        "colab": {
          "base_uri": "https://localhost:8080/"
        },
        "id": "06XeyPjRGmk0",
        "outputId": "db876104-92aa-4951-ff87-6644ec55dfd3"
      },
      "outputs": [
        {
          "data": {
            "text/plain": [
              "(10383,)"
            ]
          },
          "execution_count": 53,
          "metadata": {},
          "output_type": "execute_result"
        }
      ],
      "source": [
        "y_train.shape"
      ]
    },
    {
      "cell_type": "code",
      "execution_count": null,
      "metadata": {
        "colab": {
          "base_uri": "https://localhost:8080/"
        },
        "id": "foEIltjOE4oF",
        "outputId": "954cf2c0-e53f-4499-9f77-2abd4d024fbb"
      },
      "outputs": [
        {
          "name": "stdout",
          "output_type": "stream",
          "text": [
            "Epoch 1/10\n",
            "260/260 [==============================] - 3s 7ms/step - loss: 83930841088.0000 - mean_absolute_percentage_error: 99.8420 - val_loss: 533965440.0000 - val_mean_absolute_percentage_error: 99.8183\n",
            "Epoch 2/10\n",
            "260/260 [==============================] - 1s 5ms/step - loss: 83930849280.0000 - mean_absolute_percentage_error: 99.7999 - val_loss: 533963840.0000 - val_mean_absolute_percentage_error: 99.7887\n",
            "Epoch 3/10\n",
            "260/260 [==============================] - 1s 6ms/step - loss: 83930824704.0000 - mean_absolute_percentage_error: 99.7719 - val_loss: 533962400.0000 - val_mean_absolute_percentage_error: 99.7606\n",
            "Epoch 4/10\n",
            "260/260 [==============================] - 1s 4ms/step - loss: 83930841088.0000 - mean_absolute_percentage_error: 99.7430 - val_loss: 533960896.0000 - val_mean_absolute_percentage_error: 99.7324\n",
            "Epoch 5/10\n",
            "260/260 [==============================] - 1s 4ms/step - loss: 83930808320.0000 - mean_absolute_percentage_error: 99.7235 - val_loss: 533959232.0000 - val_mean_absolute_percentage_error: 99.7144\n",
            "Epoch 6/10\n",
            "260/260 [==============================] - 2s 8ms/step - loss: 83930841088.0000 - mean_absolute_percentage_error: 99.7193 - val_loss: 533957600.0000 - val_mean_absolute_percentage_error: 99.7197\n",
            "Epoch 7/10\n",
            "260/260 [==============================] - 1s 4ms/step - loss: 83930816512.0000 - mean_absolute_percentage_error: 99.7326 - val_loss: 533956032.0000 - val_mean_absolute_percentage_error: 99.7289\n",
            "Epoch 8/10\n",
            "260/260 [==============================] - 2s 6ms/step - loss: 83930824704.0000 - mean_absolute_percentage_error: 99.7435 - val_loss: 533954464.0000 - val_mean_absolute_percentage_error: 99.7379\n",
            "Epoch 9/10\n",
            "260/260 [==============================] - 1s 5ms/step - loss: 83930832896.0000 - mean_absolute_percentage_error: 99.7618 - val_loss: 533952864.0000 - val_mean_absolute_percentage_error: 99.7474\n",
            "Epoch 10/10\n",
            "260/260 [==============================] - 1s 3ms/step - loss: 83930808320.0000 - mean_absolute_percentage_error: 99.7728 - val_loss: 533951296.0000 - val_mean_absolute_percentage_error: 99.7573\n"
          ]
        }
      ],
      "source": [
        "# Logistic Regression with MAPE as metric\n",
        "model1 = tf.keras.Sequential([\n",
        "    tf.keras.layers.Dense(1, activation='relu', input_dim=len(baseline_features))\n",
        "])\n",
        "\n",
        "# Compile the model with MAPE as a metric\n",
        "model1.compile(optimizer='adam',\n",
        "              loss='mean_squared_error',\n",
        "              metrics=[tf.keras.metrics.MeanAbsolutePercentageError()])\n",
        "\n",
        "#train model1\n",
        "history = model1.fit(X_train[baseline_features], y_train, validation_split=0.2, epochs=10, batch_size=32)\n",
        "\n",
        "#this model basically predicts everything wrong"
      ]
    },
    {
      "cell_type": "code",
      "execution_count": null,
      "metadata": {
        "colab": {
          "base_uri": "https://localhost:8080/"
        },
        "id": "O-WRZItMHoDj",
        "outputId": "e8fbdef6-8220-4037-963c-5f2afe74cc33"
      },
      "outputs": [
        {
          "name": "stdout",
          "output_type": "stream",
          "text": [
            "109/109 [==============================] - 0s 4ms/step - loss: 526470752.0000 - mean_absolute_percentage_error: 99.6999\n",
            "Test Loss: 526470752.0\n",
            "Test MAPE: 99.69985961914062\n"
          ]
        }
      ],
      "source": [
        "# Evaluate the model on test data\n",
        "test_loss, test_mape = model1.evaluate(X_test[baseline_features], y_test)\n",
        "\n",
        "# Print the results\n",
        "print(f'Test Loss: {test_loss}')\n",
        "print(f'Test MAPE: {test_mape}')\n",
        "\n",
        "#poor performance"
      ]
    },
    {
      "cell_type": "code",
      "execution_count": null,
      "metadata": {
        "colab": {
          "base_uri": "https://localhost:8080/"
        },
        "id": "N31zaAFPJvl-",
        "outputId": "c48fe87d-fa58-4c7e-e818-d1092180b855"
      },
      "outputs": [
        {
          "name": "stdout",
          "output_type": "stream",
          "text": [
            "Feature weights:\n",
            "Mileage: -0.2542699873447418\n",
            "car_age: 1.847560167312622\n",
            "Cylinders: 2.0916988849639893\n",
            "Engine volume: 0.7397979497909546\n"
          ]
        }
      ],
      "source": [
        "# Extract weights from the model\n",
        "weights = model1.get_weights()\n",
        "\n",
        "# Get the feature names (assuming baseline_features is a list of feature names)\n",
        "feature_names = baseline_features\n",
        "\n",
        "# The first element in weights is the array of weights for the input layer\n",
        "input_weights = weights[0]\n",
        "\n",
        "# Create a dictionary to map features to their corresponding weights\n",
        "feature_weights = {feature: weight[0] for feature, weight in zip(feature_names, input_weights)}\n",
        "\n",
        "# Print the feature weights\n",
        "print(\"Feature weights:\")\n",
        "for feature, weight in feature_weights.items():\n",
        "    print(f\"{feature}: {weight}\")\n",
        "\n",
        "#The mileage has a negative relationship with price, that makes sense.\n",
        "#The age of the car has a positive relationship with price which does not make sense - maybe we need to train for more epochs since we have not reached convergence\n",
        "#Cylinders increases price which makes sense\n",
        "#engine volume increases price which makes sense"
      ]
    },
    {
      "cell_type": "code",
      "execution_count": null,
      "metadata": {
        "id": "CX7kBpHwIf51"
      },
      "outputs": [],
      "source": [
        "numerical_features=X_train.select_dtypes(include=['number']).columns.tolist()"
      ]
    },
    {
      "cell_type": "code",
      "execution_count": null,
      "metadata": {
        "colab": {
          "base_uri": "https://localhost:8080/"
        },
        "id": "TJgCDzdQI3XX",
        "outputId": "3670296c-3887-4c4d-86f2-6160d78784b2"
      },
      "outputs": [
        {
          "data": {
            "text/plain": [
              "(10383, 10)"
            ]
          },
          "execution_count": 68,
          "metadata": {},
          "output_type": "execute_result"
        }
      ],
      "source": [
        "X_train[numerical_features].shape"
      ]
    },
    {
      "cell_type": "code",
      "execution_count": null,
      "metadata": {
        "colab": {
          "base_uri": "https://localhost:8080/"
        },
        "id": "Rk9LrOKuHXwz",
        "outputId": "21d27bd3-1ab3-4140-d1c3-dda925a86776"
      },
      "outputs": [
        {
          "name": "stdout",
          "output_type": "stream",
          "text": [
            "Epoch 1/10\n",
            "260/260 [==============================] - 3s 7ms/step - loss: 172832822657024.0000 - mean_absolute_percentage_error: 1694625.5000 - val_loss: 66343017644032.0000 - val_mean_absolute_percentage_error: 878003.5625\n",
            "Epoch 2/10\n",
            "260/260 [==============================] - 2s 6ms/step - loss: 28015356542976.0000 - mean_absolute_percentage_error: 626344.3125 - val_loss: 6849622441984.0000 - val_mean_absolute_percentage_error: 283906.9375\n",
            "Epoch 3/10\n",
            "260/260 [==============================] - 2s 7ms/step - loss: 2351532867584.0000 - mean_absolute_percentage_error: 175708.5625 - val_loss: 322323382272.0000 - val_mean_absolute_percentage_error: 62844.9375\n",
            "Epoch 4/10\n",
            "260/260 [==============================] - 2s 7ms/step - loss: 173067976704.0000 - mean_absolute_percentage_error: 33223.4688 - val_loss: 12537906176.0000 - val_mean_absolute_percentage_error: 11621.3652\n",
            "Epoch 5/10\n",
            "260/260 [==============================] - 1s 4ms/step - loss: 88074264576.0000 - mean_absolute_percentage_error: 7009.8770 - val_loss: 2226604544.0000 - val_mean_absolute_percentage_error: 4106.7915\n",
            "Epoch 6/10\n",
            "260/260 [==============================] - 1s 4ms/step - loss: 84735320064.0000 - mean_absolute_percentage_error: 2792.4709 - val_loss: 1166989312.0000 - val_mean_absolute_percentage_error: 2429.3362\n",
            "Epoch 7/10\n",
            "260/260 [==============================] - 1s 4ms/step - loss: 84239548416.0000 - mean_absolute_percentage_error: 2040.9670 - val_loss: 747452544.0000 - val_mean_absolute_percentage_error: 1411.2524\n",
            "Epoch 8/10\n",
            "260/260 [==============================] - 1s 4ms/step - loss: 84031504384.0000 - mean_absolute_percentage_error: 1375.8318 - val_loss: 625165952.0000 - val_mean_absolute_percentage_error: 1103.9869\n",
            "Epoch 9/10\n",
            "260/260 [==============================] - 1s 4ms/step - loss: 83965788160.0000 - mean_absolute_percentage_error: 1062.2571 - val_loss: 577342784.0000 - val_mean_absolute_percentage_error: 923.3462\n",
            "Epoch 10/10\n",
            "260/260 [==============================] - 1s 4ms/step - loss: 83938992128.0000 - mean_absolute_percentage_error: 885.1212 - val_loss: 553685056.0000 - val_mean_absolute_percentage_error: 796.9598\n"
          ]
        }
      ],
      "source": [
        "#baseline model 2 - all numerical features\n",
        "\n",
        "# Logistic Regression with MAPE as metric\n",
        "model2 = tf.keras.Sequential([\n",
        "    tf.keras.layers.Dense(1, activation='relu', input_dim=len(numerical_features))\n",
        "])\n",
        "\n",
        "# Compile the model with MAPE as a metric\n",
        "model2.compile(optimizer='adam',\n",
        "              loss='mean_squared_error',\n",
        "              metrics=[tf.keras.metrics.MeanAbsolutePercentageError()])\n",
        "\n",
        "#train model1\n",
        "history = model2.fit(X_train[numerical_features], y_train, validation_split=0.2, epochs=10, batch_size=32)"
      ]
    },
    {
      "cell_type": "code",
      "execution_count": null,
      "metadata": {
        "colab": {
          "base_uri": "https://localhost:8080/"
        },
        "id": "H1gZVM3mJMGV",
        "outputId": "d3880c3c-f7ab-46f8-e8b4-92ca0159bd56"
      },
      "outputs": [
        {
          "name": "stdout",
          "output_type": "stream",
          "text": [
            "109/109 [==============================] - 0s 3ms/step - loss: 543770432.0000 - mean_absolute_percentage_error: 1129.3768\n",
            "Test Loss: 543770432.0\n",
            "Test MAPE: 1129.3768310546875\n"
          ]
        }
      ],
      "source": [
        "# Evaluate the model on test data\n",
        "test_loss, test_mape = model2.evaluate(X_test[numerical_features], y_test)\n",
        "\n",
        "# Print the results\n",
        "print(f'Test Loss: {test_loss}')\n",
        "print(f'Test MAPE: {test_mape}')\n",
        "\n",
        "#worse performance than model 1"
      ]
    },
    {
      "cell_type": "code",
      "execution_count": null,
      "metadata": {
        "colab": {
          "base_uri": "https://localhost:8080/"
        },
        "id": "cC_hiVkwKmhm",
        "outputId": "b0bd9d6f-1395-4d45-e8f5-1aa480a96d39"
      },
      "outputs": [
        {
          "data": {
            "text/plain": [
              "ID                    int64\n",
              "Levy                  int64\n",
              "Manufacturer         object\n",
              "Model                object\n",
              "Prod. year            int64\n",
              "Category             object\n",
              "Leather interior     object\n",
              "Fuel type            object\n",
              "Engine volume       float64\n",
              "Mileage               int64\n",
              "Cylinders           float64\n",
              "Gear box type        object\n",
              "Drive wheels         object\n",
              "Doors               float64\n",
              "Wheel                object\n",
              "Color                object\n",
              "Airbags               int64\n",
              "car_age               int64\n",
              "mileage_per_year    float64\n",
              "dtype: object"
            ]
          },
          "execution_count": 73,
          "metadata": {},
          "output_type": "execute_result"
        }
      ],
      "source": [
        "X_train.dtypes"
      ]
    },
    {
      "cell_type": "code",
      "execution_count": null,
      "metadata": {
        "colab": {
          "base_uri": "https://localhost:8080/"
        },
        "id": "kQXQstU6CSvU",
        "outputId": "c8fc9882-a389-4c33-e731-fb9db8fe2a4a"
      },
      "outputs": [
        {
          "name": "stdout",
          "output_type": "stream",
          "text": [
            "[[0. 0. 0. ... 0. 0. 0.]\n",
            " [0. 0. 0. ... 0. 0. 0.]\n",
            " [0. 0. 0. ... 0. 0. 0.]\n",
            " ...\n",
            " [0. 0. 0. ... 0. 0. 0.]\n",
            " [0. 0. 0. ... 0. 0. 0.]\n",
            " [0. 0. 0. ... 0. 0. 0.]]\n",
            "1.0\n"
          ]
        },
        {
          "name": "stderr",
          "output_type": "stream",
          "text": [
            "/usr/local/lib/python3.10/dist-packages/sklearn/preprocessing/_encoders.py:868: FutureWarning: `sparse` was renamed to `sparse_output` in version 1.2 and will be removed in 1.4. `sparse_output` is ignored unless you leave `sparse` to its default value.\n",
            "  warnings.warn(\n"
          ]
        }
      ],
      "source": [
        "from sklearn.preprocessing import OneHotEncoder\n",
        "#test for one-hot function\n",
        "encoder=OneHotEncoder(sparse=False)\n",
        "column_to_encode=X_train[['Manufacturer']]\n",
        "encoded_data = encoder.fit_transform(column_to_encode)\n",
        "print(encoded_data)\n",
        "print(max(encoded_data[0]))"
      ]
    },
    {
      "cell_type": "code",
      "execution_count": null,
      "metadata": {
        "colab": {
          "base_uri": "https://localhost:8080/"
        },
        "id": "wLVvI4e2LbaN",
        "outputId": "2139457e-a039-4480-ea42-358dbaa5215c"
      },
      "outputs": [
        {
          "name": "stdout",
          "output_type": "stream",
          "text": [
            "1072\n"
          ]
        }
      ],
      "source": [
        "num_of_one_hot=0\n",
        "for column in X_train.columns:\n",
        "    if X_train[column].dtype == 'object':\n",
        "      num_of_one_hot+=X_train[column].nunique()\n",
        "print(len(X_train[numerical_features].columns)+num_of_one_hot)\n",
        "\n",
        "#this is how many features there should be after one hot encoding - 1072 columns"
      ]
    },
    {
      "cell_type": "code",
      "execution_count": null,
      "metadata": {
        "colab": {
          "background_save": true
        },
        "id": "D-UntqwY0p0P"
      },
      "outputs": [],
      "source": [
        "import warnings\n",
        "#feature engineering part 1 - categorical to one-hot and Z-scale numericals\n",
        "from sklearn.preprocessing import OneHotEncoder\n",
        "\n",
        "#handle categorical variables, one hot encode categorical variables\n",
        "def categorical(data):\n",
        "    encoder = OneHotEncoder(sparse=False)\n",
        "    for column in data.columns:\n",
        "        if data[column].dtype == 'object':\n",
        "            column_to_encode = data[[column]]\n",
        "            encoded_data = encoder.fit_transform(column_to_encode)\n",
        "            encoded_df = pd.DataFrame(encoded_data, columns=encoder.get_feature_names_out([column]))\n",
        "            data = data.drop(column, axis=1)  # Drop the original column\n",
        "            data = pd.concat([data, encoded_df], axis=1)  # Concatenate the new encoded columns\n",
        "    return data\n",
        "\n",
        "# Suppress FutureWarnings - otherwise a bunch of warnings will be output\n",
        "warnings.simplefilter(action='ignore', category=FutureWarning)\n",
        "\n",
        "#Note that all dtypes for features are numerical except the categorical features which are objects, this means the function should work\n",
        "X_train=categorical(X_train)\n",
        "X_test=categorical(X_test)\n",
        "X_val=categorical(X_val)\n"
      ]
    },
    {
      "cell_type": "code",
      "execution_count": null,
      "metadata": {
        "colab": {
          "base_uri": "https://localhost:8080/"
        },
        "id": "oqEvHUEgLQX9",
        "outputId": "4c092913-6e9a-43be-9512-460f2f93016e"
      },
      "outputs": [
        {
          "output_type": "stream",
          "name": "stdout",
          "text": [
            "1080\n"
          ]
        }
      ],
      "source": [
        "#check to make sure the number of features matches the check above - 1072 features expected\n",
        "print(X_train.shape[1])"
      ]
    },
    {
      "cell_type": "code",
      "execution_count": null,
      "metadata": {
        "id": "BL31VXNMF27q"
      },
      "outputs": [],
      "source": [
        "#PAUSE HERE - MEET WITH GROUP\n",
        "\n",
        "#Scale numerical features\n",
        "from sklearn.preprocessing import StandardScaler\n",
        "\n",
        "scaler = StandardScaler()\n",
        "X_train_scaled=scaler.fit_transform(X_train[numerical_columns])\n",
        "X_test_scaled=scaler.transform(X_test[numerical_columns])\n",
        "X_val_scaled=scaler.transform(X_val[numerical_columns])"
      ]
    },
    {
      "cell_type": "code",
      "execution_count": null,
      "metadata": {
        "colab": {
          "base_uri": "https://localhost:8080/",
          "height": 426
        },
        "id": "5-loC7qHE1E3",
        "outputId": "6ceaa71f-d5fd-4048-fded-93082121f6dc"
      },
      "outputs": [
        {
          "ename": "ValueError",
          "evalue": "Input X contains NaN.\nLinearRegression does not accept missing values encoded as NaN natively. For supervised learning, you might want to consider sklearn.ensemble.HistGradientBoostingClassifier and Regressor which accept missing values encoded as NaNs natively. Alternatively, it is possible to preprocess the data, for instance by using an imputer transformer in a pipeline or drop samples with missing values. See https://scikit-learn.org/stable/modules/impute.html You can find a list of all estimators that handle NaN values at the following page: https://scikit-learn.org/stable/modules/impute.html#estimators-that-handle-nan-values",
          "output_type": "error",
          "traceback": [
            "\u001b[0;31m---------------------------------------------------------------------------\u001b[0m",
            "\u001b[0;31mValueError\u001b[0m                                Traceback (most recent call last)",
            "\u001b[0;32m<ipython-input-170-9bccb9de49c6>\u001b[0m in \u001b[0;36m<cell line: 3>\u001b[0;34m()\u001b[0m\n\u001b[1;32m      1\u001b[0m \u001b[0;31m#Test Model 2 with numerical features and one-hot encoding\u001b[0m\u001b[0;34m\u001b[0m\u001b[0;34m\u001b[0m\u001b[0m\n\u001b[1;32m      2\u001b[0m \u001b[0mmodel2\u001b[0m \u001b[0;34m=\u001b[0m \u001b[0mLinearRegression\u001b[0m\u001b[0;34m(\u001b[0m\u001b[0;34m)\u001b[0m\u001b[0;34m\u001b[0m\u001b[0;34m\u001b[0m\u001b[0m\n\u001b[0;32m----> 3\u001b[0;31m \u001b[0mmodel2\u001b[0m\u001b[0;34m.\u001b[0m\u001b[0mfit\u001b[0m\u001b[0;34m(\u001b[0m\u001b[0mX_train_scaled\u001b[0m\u001b[0;34m,\u001b[0m \u001b[0my_train\u001b[0m\u001b[0;34m)\u001b[0m\u001b[0;34m\u001b[0m\u001b[0;34m\u001b[0m\u001b[0m\n\u001b[0m\u001b[1;32m      4\u001b[0m \u001b[0;34m\u001b[0m\u001b[0m\n\u001b[1;32m      5\u001b[0m \u001b[0;31m# Make predictions\u001b[0m\u001b[0;34m\u001b[0m\u001b[0;34m\u001b[0m\u001b[0m\n",
            "\u001b[0;32m/usr/local/lib/python3.10/dist-packages/sklearn/linear_model/_base.py\u001b[0m in \u001b[0;36mfit\u001b[0;34m(self, X, y, sample_weight)\u001b[0m\n\u001b[1;32m    646\u001b[0m         \u001b[0maccept_sparse\u001b[0m \u001b[0;34m=\u001b[0m \u001b[0;32mFalse\u001b[0m \u001b[0;32mif\u001b[0m \u001b[0mself\u001b[0m\u001b[0;34m.\u001b[0m\u001b[0mpositive\u001b[0m \u001b[0;32melse\u001b[0m \u001b[0;34m[\u001b[0m\u001b[0;34m\"csr\"\u001b[0m\u001b[0;34m,\u001b[0m \u001b[0;34m\"csc\"\u001b[0m\u001b[0;34m,\u001b[0m \u001b[0;34m\"coo\"\u001b[0m\u001b[0;34m]\u001b[0m\u001b[0;34m\u001b[0m\u001b[0;34m\u001b[0m\u001b[0m\n\u001b[1;32m    647\u001b[0m \u001b[0;34m\u001b[0m\u001b[0m\n\u001b[0;32m--> 648\u001b[0;31m         X, y = self._validate_data(\n\u001b[0m\u001b[1;32m    649\u001b[0m             \u001b[0mX\u001b[0m\u001b[0;34m,\u001b[0m \u001b[0my\u001b[0m\u001b[0;34m,\u001b[0m \u001b[0maccept_sparse\u001b[0m\u001b[0;34m=\u001b[0m\u001b[0maccept_sparse\u001b[0m\u001b[0;34m,\u001b[0m \u001b[0my_numeric\u001b[0m\u001b[0;34m=\u001b[0m\u001b[0;32mTrue\u001b[0m\u001b[0;34m,\u001b[0m \u001b[0mmulti_output\u001b[0m\u001b[0;34m=\u001b[0m\u001b[0;32mTrue\u001b[0m\u001b[0;34m\u001b[0m\u001b[0;34m\u001b[0m\u001b[0m\n\u001b[1;32m    650\u001b[0m         )\n",
            "\u001b[0;32m/usr/local/lib/python3.10/dist-packages/sklearn/base.py\u001b[0m in \u001b[0;36m_validate_data\u001b[0;34m(self, X, y, reset, validate_separately, **check_params)\u001b[0m\n\u001b[1;32m    582\u001b[0m                 \u001b[0my\u001b[0m \u001b[0;34m=\u001b[0m \u001b[0mcheck_array\u001b[0m\u001b[0;34m(\u001b[0m\u001b[0my\u001b[0m\u001b[0;34m,\u001b[0m \u001b[0minput_name\u001b[0m\u001b[0;34m=\u001b[0m\u001b[0;34m\"y\"\u001b[0m\u001b[0;34m,\u001b[0m \u001b[0;34m**\u001b[0m\u001b[0mcheck_y_params\u001b[0m\u001b[0;34m)\u001b[0m\u001b[0;34m\u001b[0m\u001b[0;34m\u001b[0m\u001b[0m\n\u001b[1;32m    583\u001b[0m             \u001b[0;32melse\u001b[0m\u001b[0;34m:\u001b[0m\u001b[0;34m\u001b[0m\u001b[0;34m\u001b[0m\u001b[0m\n\u001b[0;32m--> 584\u001b[0;31m                 \u001b[0mX\u001b[0m\u001b[0;34m,\u001b[0m \u001b[0my\u001b[0m \u001b[0;34m=\u001b[0m \u001b[0mcheck_X_y\u001b[0m\u001b[0;34m(\u001b[0m\u001b[0mX\u001b[0m\u001b[0;34m,\u001b[0m \u001b[0my\u001b[0m\u001b[0;34m,\u001b[0m \u001b[0;34m**\u001b[0m\u001b[0mcheck_params\u001b[0m\u001b[0;34m)\u001b[0m\u001b[0;34m\u001b[0m\u001b[0;34m\u001b[0m\u001b[0m\n\u001b[0m\u001b[1;32m    585\u001b[0m             \u001b[0mout\u001b[0m \u001b[0;34m=\u001b[0m \u001b[0mX\u001b[0m\u001b[0;34m,\u001b[0m \u001b[0my\u001b[0m\u001b[0;34m\u001b[0m\u001b[0;34m\u001b[0m\u001b[0m\n\u001b[1;32m    586\u001b[0m \u001b[0;34m\u001b[0m\u001b[0m\n",
            "\u001b[0;32m/usr/local/lib/python3.10/dist-packages/sklearn/utils/validation.py\u001b[0m in \u001b[0;36mcheck_X_y\u001b[0;34m(X, y, accept_sparse, accept_large_sparse, dtype, order, copy, force_all_finite, ensure_2d, allow_nd, multi_output, ensure_min_samples, ensure_min_features, y_numeric, estimator)\u001b[0m\n\u001b[1;32m   1104\u001b[0m         )\n\u001b[1;32m   1105\u001b[0m \u001b[0;34m\u001b[0m\u001b[0m\n\u001b[0;32m-> 1106\u001b[0;31m     X = check_array(\n\u001b[0m\u001b[1;32m   1107\u001b[0m         \u001b[0mX\u001b[0m\u001b[0;34m,\u001b[0m\u001b[0;34m\u001b[0m\u001b[0;34m\u001b[0m\u001b[0m\n\u001b[1;32m   1108\u001b[0m         \u001b[0maccept_sparse\u001b[0m\u001b[0;34m=\u001b[0m\u001b[0maccept_sparse\u001b[0m\u001b[0;34m,\u001b[0m\u001b[0;34m\u001b[0m\u001b[0;34m\u001b[0m\u001b[0m\n",
            "\u001b[0;32m/usr/local/lib/python3.10/dist-packages/sklearn/utils/validation.py\u001b[0m in \u001b[0;36mcheck_array\u001b[0;34m(array, accept_sparse, accept_large_sparse, dtype, order, copy, force_all_finite, ensure_2d, allow_nd, ensure_min_samples, ensure_min_features, estimator, input_name)\u001b[0m\n\u001b[1;32m    919\u001b[0m \u001b[0;34m\u001b[0m\u001b[0m\n\u001b[1;32m    920\u001b[0m         \u001b[0;32mif\u001b[0m \u001b[0mforce_all_finite\u001b[0m\u001b[0;34m:\u001b[0m\u001b[0;34m\u001b[0m\u001b[0;34m\u001b[0m\u001b[0m\n\u001b[0;32m--> 921\u001b[0;31m             _assert_all_finite(\n\u001b[0m\u001b[1;32m    922\u001b[0m                 \u001b[0marray\u001b[0m\u001b[0;34m,\u001b[0m\u001b[0;34m\u001b[0m\u001b[0;34m\u001b[0m\u001b[0m\n\u001b[1;32m    923\u001b[0m                 \u001b[0minput_name\u001b[0m\u001b[0;34m=\u001b[0m\u001b[0minput_name\u001b[0m\u001b[0;34m,\u001b[0m\u001b[0;34m\u001b[0m\u001b[0;34m\u001b[0m\u001b[0m\n",
            "\u001b[0;32m/usr/local/lib/python3.10/dist-packages/sklearn/utils/validation.py\u001b[0m in \u001b[0;36m_assert_all_finite\u001b[0;34m(X, allow_nan, msg_dtype, estimator_name, input_name)\u001b[0m\n\u001b[1;32m    159\u001b[0m                 \u001b[0;34m\"#estimators-that-handle-nan-values\"\u001b[0m\u001b[0;34m\u001b[0m\u001b[0;34m\u001b[0m\u001b[0m\n\u001b[1;32m    160\u001b[0m             )\n\u001b[0;32m--> 161\u001b[0;31m         \u001b[0;32mraise\u001b[0m \u001b[0mValueError\u001b[0m\u001b[0;34m(\u001b[0m\u001b[0mmsg_err\u001b[0m\u001b[0;34m)\u001b[0m\u001b[0;34m\u001b[0m\u001b[0;34m\u001b[0m\u001b[0m\n\u001b[0m\u001b[1;32m    162\u001b[0m \u001b[0;34m\u001b[0m\u001b[0m\n\u001b[1;32m    163\u001b[0m \u001b[0;34m\u001b[0m\u001b[0m\n",
            "\u001b[0;31mValueError\u001b[0m: Input X contains NaN.\nLinearRegression does not accept missing values encoded as NaN natively. For supervised learning, you might want to consider sklearn.ensemble.HistGradientBoostingClassifier and Regressor which accept missing values encoded as NaNs natively. Alternatively, it is possible to preprocess the data, for instance by using an imputer transformer in a pipeline or drop samples with missing values. See https://scikit-learn.org/stable/modules/impute.html You can find a list of all estimators that handle NaN values at the following page: https://scikit-learn.org/stable/modules/impute.html#estimators-that-handle-nan-values"
          ]
        }
      ],
      "source": [
        "#Test Model 2 with numerical features and one-hot encoding\n",
        "model2 = LinearRegression()\n",
        "model2.fit(X_train_scaled, y_train)\n",
        "\n",
        "# Make predictions\n",
        "y_pred2 = model.predict(X_test)\n",
        "\n",
        "# Calculate MAPE\n",
        "mape2 = mean_absolute_percentage_error(y_test, y_pred2)\n",
        "\n",
        "print(f'MAPE: {mape2:.2f}%')"
      ]
    },
    {
      "cell_type": "code",
      "execution_count": null,
      "metadata": {
        "colab": {
          "base_uri": "https://localhost:8080/"
        },
        "id": "SZHFXx-N0SVH",
        "outputId": "b4ecd005-9791-4761-efe2-a3bbf02ba8ca"
      },
      "outputs": [
        {
          "data": {
            "text/plain": [
              "Index(['Levy', 'Engine volume', 'Cylinders', 'Doors', 'Airbags', 'car_age',\n",
              "       'mileage_per_year', 'Manufacturer_ACURA', 'Manufacturer_ALFA ROMEO',\n",
              "       'Manufacturer_ASTON MARTIN',\n",
              "       ...\n",
              "       'Color_Grey', 'Color_Orange', 'Color_Pink', 'Color_Purple', 'Color_Red',\n",
              "       'Color_Silver', 'Color_Sky blue', 'Color_White', 'Color_Yellow',\n",
              "       'Color_nan'],\n",
              "      dtype='object', length=1077)"
            ]
          },
          "execution_count": 154,
          "metadata": {},
          "output_type": "execute_result"
        }
      ],
      "source": [
        "# Identify numerical columns\n",
        "numerical_columns = X_train.select_dtypes(include=['float64']).columns\n",
        "\n",
        "# Remove 'ID' from numerical columns if present\n",
        "numerical_columns = numerical_columns.drop('ID', errors='ignore')\n",
        "numerical_columns"
      ]
    },
    {
      "cell_type": "code",
      "execution_count": null,
      "metadata": {
        "id": "x5RVTyWREEsp"
      },
      "outputs": [],
      "source": [
        "#consider non-linearity - certain features may not have a linear relationship with price\n",
        "\n",
        "#consider feature interaction - for example horsepower on its own may not predict price but maybe a low horsepower Porsche is more expensive because it is a vintage car and that makes it more valuable\n",
        "\n",
        "#Use Kaggle to determine baseline models\n",
        "#like for titanic - predicting all dead, predicting males die based on Leaderboard in Kaggle). Otherwise just use a couple key features in the regression instead of using all features.\n",
        "#For model1 use one feature, logistic regression, and Adam optimizer - variant of SGD that has momentum so we dont get stuck at a local minimum\n",
        "\n",
        "#for baseline model - maybe we need to train for more epochs since we have not reached convergence, not sure if this is a best practice\n",
        "\n"
      ]
    }
  ],
  "metadata": {
    "colab": {
      "provenance": [],
      "include_colab_link": true
    },
    "kernelspec": {
      "display_name": "Python 3",
      "name": "python3"
    },
    "language_info": {
      "name": "python"
    }
  },
  "nbformat": 4,
  "nbformat_minor": 0
}